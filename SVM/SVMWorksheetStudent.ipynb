{
  "nbformat": 4,
  "nbformat_minor": 0,
  "metadata": {
    "colab": {
      "name": "SVMWorksheetStudent",
      "version": "0.3.2",
      "provenance": [],
      "collapsed_sections": []
    },
    "kernelspec": {
      "name": "python3",
      "display_name": "Python 3"
    }
  },
  "cells": [
    {
      "metadata": {
        "id": "-UimMCmGe19F",
        "colab_type": "text"
      },
      "cell_type": "markdown",
      "source": [
        "# SVM Tree Worksheet"
      ]
    },
    {
      "metadata": {
        "id": "kedW02LgKjVL",
        "colab_type": "code",
        "colab": {
          "base_uri": "https://localhost:8080/",
          "height": 17
        },
        "outputId": "f1e84e1b-64db-42d6-deaa-990e552b8f4d"
      },
      "cell_type": "code",
      "source": [
        "import numpy as np\n",
        "import pandas as pd\n",
        "from sklearn.model_selection import train_test_split\n",
        "import matplotlib.pyplot as plt\n",
        "from sklearn import svm\n",
        "from sklearn.metrics import accuracy_score\n",
        "from sklearn.svm import SVC # \"Support vector classifier\"\n",
        "from sklearn.model_selection import GridSearchCV\n",
        "from sklearn.ensemble import RandomForestClassifier"
      ],
      "execution_count": 1,
      "outputs": []
    },
    {
      "metadata": {
        "id": "rz35eT5-SMht",
        "colab_type": "text"
      },
      "cell_type": "markdown",
      "source": [
        "#### Load pima indians diabetes dataset below"
      ]
    },
    {
      "metadata": {
        "id": "Ydh9gmDkMGmu",
        "colab_type": "code",
        "colab": {
          "base_uri": "https://localhost:8080/",
          "height": 204
        },
        "outputId": "32f2e4b0-08cc-479e-a498-2efce620a0d4"
      },
      "cell_type": "code",
      "source": [
        "url = \"https://raw.githubusercontent.com/jbrownlee/Datasets/master/pima-indians-diabetes.data.csv\"\n",
        "names = ['preg', 'plas', 'pres', 'skin', 'test', 'mass', 'pedi', 'age', 'class']\n",
        "\n",
        "data = pd.read_csv(url, names = names)\n",
        "data.head()"
      ],
      "execution_count": 4,
      "outputs": [
        {
          "output_type": "execute_result",
          "data": {
            "text/html": [
              "<div>\n",
              "<style scoped>\n",
              "    .dataframe tbody tr th:only-of-type {\n",
              "        vertical-align: middle;\n",
              "    }\n",
              "\n",
              "    .dataframe tbody tr th {\n",
              "        vertical-align: top;\n",
              "    }\n",
              "\n",
              "    .dataframe thead th {\n",
              "        text-align: right;\n",
              "    }\n",
              "</style>\n",
              "<table border=\"1\" class=\"dataframe\">\n",
              "  <thead>\n",
              "    <tr style=\"text-align: right;\">\n",
              "      <th></th>\n",
              "      <th>preg</th>\n",
              "      <th>plas</th>\n",
              "      <th>pres</th>\n",
              "      <th>skin</th>\n",
              "      <th>test</th>\n",
              "      <th>mass</th>\n",
              "      <th>pedi</th>\n",
              "      <th>age</th>\n",
              "      <th>class</th>\n",
              "    </tr>\n",
              "  </thead>\n",
              "  <tbody>\n",
              "    <tr>\n",
              "      <th>0</th>\n",
              "      <td>6</td>\n",
              "      <td>148</td>\n",
              "      <td>72</td>\n",
              "      <td>35</td>\n",
              "      <td>0</td>\n",
              "      <td>33.6</td>\n",
              "      <td>0.627</td>\n",
              "      <td>50</td>\n",
              "      <td>1</td>\n",
              "    </tr>\n",
              "    <tr>\n",
              "      <th>1</th>\n",
              "      <td>1</td>\n",
              "      <td>85</td>\n",
              "      <td>66</td>\n",
              "      <td>29</td>\n",
              "      <td>0</td>\n",
              "      <td>26.6</td>\n",
              "      <td>0.351</td>\n",
              "      <td>31</td>\n",
              "      <td>0</td>\n",
              "    </tr>\n",
              "    <tr>\n",
              "      <th>2</th>\n",
              "      <td>8</td>\n",
              "      <td>183</td>\n",
              "      <td>64</td>\n",
              "      <td>0</td>\n",
              "      <td>0</td>\n",
              "      <td>23.3</td>\n",
              "      <td>0.672</td>\n",
              "      <td>32</td>\n",
              "      <td>1</td>\n",
              "    </tr>\n",
              "    <tr>\n",
              "      <th>3</th>\n",
              "      <td>1</td>\n",
              "      <td>89</td>\n",
              "      <td>66</td>\n",
              "      <td>23</td>\n",
              "      <td>94</td>\n",
              "      <td>28.1</td>\n",
              "      <td>0.167</td>\n",
              "      <td>21</td>\n",
              "      <td>0</td>\n",
              "    </tr>\n",
              "    <tr>\n",
              "      <th>4</th>\n",
              "      <td>0</td>\n",
              "      <td>137</td>\n",
              "      <td>40</td>\n",
              "      <td>35</td>\n",
              "      <td>168</td>\n",
              "      <td>43.1</td>\n",
              "      <td>2.288</td>\n",
              "      <td>33</td>\n",
              "      <td>1</td>\n",
              "    </tr>\n",
              "  </tbody>\n",
              "</table>\n",
              "</div>"
            ],
            "text/plain": [
              "   preg  plas  pres  skin  test  mass   pedi  age  class\n",
              "0     6   148    72    35     0  33.6  0.627   50      1\n",
              "1     1    85    66    29     0  26.6  0.351   31      0\n",
              "2     8   183    64     0     0  23.3  0.672   32      1\n",
              "3     1    89    66    23    94  28.1  0.167   21      0\n",
              "4     0   137    40    35   168  43.1  2.288   33      1"
            ]
          },
          "metadata": {
            "tags": []
          },
          "execution_count": 4
        }
      ]
    },
    {
      "metadata": {
        "id": "OVd3yPrQ3LDG",
        "colab_type": "text"
      },
      "cell_type": "markdown",
      "source": [
        "#### Split data into test and train set with the test_size being 25 %"
      ]
    },
    {
      "metadata": {
        "id": "kOR7RCrf5P_k",
        "colab_type": "code",
        "colab": {
          "base_uri": "https://localhost:8080/",
          "height": 119
        },
        "outputId": "b1f2e76a-541e-4616-e41e-9164d4e22fa0"
      },
      "cell_type": "code",
      "source": [
        "x = data.iloc[:,:-1]\n",
        "y = data.iloc[:,-1]\n",
        "\n",
        "x_train, x_test, y_train, y_test = train_test_split(x, y, test_size = 0.25, random_state = 0)\n",
        "\n",
        "y.head()"
      ],
      "execution_count": 13,
      "outputs": [
        {
          "output_type": "execute_result",
          "data": {
            "text/plain": [
              "0    1\n",
              "1    0\n",
              "2    1\n",
              "3    0\n",
              "4    1\n",
              "Name: class, dtype: int64"
            ]
          },
          "metadata": {
            "tags": []
          },
          "execution_count": 13
        }
      ]
    },
    {
      "metadata": {
        "id": "v7lQh69N3YR3",
        "colab_type": "text"
      },
      "cell_type": "markdown",
      "source": [
        "#### Create a model with sklearn's SVC and a high gamma value (perhaps 1.0)"
      ]
    },
    {
      "metadata": {
        "id": "9rYQecrQ8yjn",
        "colab_type": "code",
        "colab": {
          "base_uri": "https://localhost:8080/",
          "height": 85
        },
        "outputId": "886c4d9f-2530-4b85-ec13-d26827f1bf0b"
      },
      "cell_type": "code",
      "source": [
        "model = SVC(gamma = 1.0)\n",
        "\n",
        "model.fit(x_train, y_train)"
      ],
      "execution_count": 14,
      "outputs": [
        {
          "output_type": "execute_result",
          "data": {
            "text/plain": [
              "SVC(C=1.0, cache_size=200, class_weight=None, coef0=0.0,\n",
              "  decision_function_shape='ovr', degree=3, gamma=1.0, kernel='rbf',\n",
              "  max_iter=-1, probability=False, random_state=None, shrinking=True,\n",
              "  tol=0.001, verbose=False)"
            ]
          },
          "metadata": {
            "tags": []
          },
          "execution_count": 14
        }
      ]
    },
    {
      "metadata": {
        "id": "qdiqjUje4ll-",
        "colab_type": "text"
      },
      "cell_type": "markdown",
      "source": [
        "#### Print accuracy of test data and training data (the model should be trained/'fit' on the training data)"
      ]
    },
    {
      "metadata": {
        "id": "O5LqepHk9S0M",
        "colab_type": "code",
        "colab": {
          "base_uri": "https://localhost:8080/",
          "height": 34
        },
        "outputId": "b4f3bad3-fd5b-474d-8ef9-2607c51bb376"
      },
      "cell_type": "code",
      "source": [
        "y_test_predict = model.predict(x_test)\n",
        "\n",
        "accuracy_score(y_test, y_test_predict)"
      ],
      "execution_count": 15,
      "outputs": [
        {
          "output_type": "execute_result",
          "data": {
            "text/plain": [
              "0.6770833333333334"
            ]
          },
          "metadata": {
            "tags": []
          },
          "execution_count": 15
        }
      ]
    },
    {
      "metadata": {
        "id": "fC7VlLtI3ZjQ",
        "colab_type": "text"
      },
      "cell_type": "markdown",
      "source": [
        "#### Create a model with sklearn's SVC and a low gamma value (perhaps .001)"
      ]
    },
    {
      "metadata": {
        "id": "3vVHnWuY9pFN",
        "colab_type": "code",
        "colab": {
          "base_uri": "https://localhost:8080/",
          "height": 85
        },
        "outputId": "a395ed43-83dc-40ec-ffcd-d2ac69602a9d"
      },
      "cell_type": "code",
      "source": [
        "model = SVC(gamma = 0.001)\n",
        "\n",
        "model.fit(x_train, y_train)"
      ],
      "execution_count": 22,
      "outputs": [
        {
          "output_type": "execute_result",
          "data": {
            "text/plain": [
              "SVC(C=1.0, cache_size=200, class_weight=None, coef0=0.0,\n",
              "  decision_function_shape='ovr', degree=3, gamma=0.001, kernel='rbf',\n",
              "  max_iter=-1, probability=False, random_state=None, shrinking=True,\n",
              "  tol=0.001, verbose=False)"
            ]
          },
          "metadata": {
            "tags": []
          },
          "execution_count": 22
        }
      ]
    },
    {
      "metadata": {
        "id": "JQB-U50H4mIx",
        "colab_type": "text"
      },
      "cell_type": "markdown",
      "source": [
        "#### Print accuracy of training data and test data"
      ]
    },
    {
      "metadata": {
        "id": "tr4DGB309s9a",
        "colab_type": "code",
        "colab": {
          "base_uri": "https://localhost:8080/",
          "height": 51
        },
        "outputId": "afeca02d-0dfb-4303-9f60-853ca5d137cf"
      },
      "cell_type": "code",
      "source": [
        "y_train_predict = model.predict(x_train)\n",
        "print(accuracy_score(y_train, y_train_predict))\n",
        "\n",
        "y_test_predict = model.predict(x_test)\n",
        "print(accuracy_score(y_test, y_test_predict))"
      ],
      "execution_count": 23,
      "outputs": [
        {
          "output_type": "stream",
          "text": [
            "0.8402777777777778\n",
            "0.7552083333333334\n"
          ],
          "name": "stdout"
        }
      ]
    },
    {
      "metadata": {
        "id": "TA9xLHAEIKXY",
        "colab_type": "text"
      },
      "cell_type": "markdown",
      "source": [
        "##### Explain the accuracy results below. "
      ]
    },
    {
      "metadata": {
        "id": "fE_bPc2KISFi",
        "colab_type": "text"
      },
      "cell_type": "markdown",
      "source": [
        "Your answer here <br>\n",
        "Too high of a gamma may result in a sort of overfitting. Relatively lower gamma is more accurate for test, although less accurate for training."
      ]
    },
    {
      "metadata": {
        "id": "Lv21xang3ZAa",
        "colab_type": "text"
      },
      "cell_type": "markdown",
      "source": [
        "## GridSearchCV\n",
        "\n",
        "There are several parameters to tune. Instead of tuning the parameters one by one, GridSearchCV does an exhaustive search over provided parameters. <br><br>"
      ]
    },
    {
      "metadata": {
        "id": "gr2EOA2LYvoF",
        "colab_type": "text"
      },
      "cell_type": "markdown",
      "source": [
        "###Use gamma, C and decision_function_shape as parameters and GridSearchCV to find the best parameters with kernel='rbf'<br>\n",
        "Don't know what decision_function_shape is, look at the SVC documentation <br>\n",
        "Don't know how to use GridSearchCV, google it!<br><br>"
      ]
    },
    {
      "metadata": {
        "id": "zmjogZlyMVMf",
        "colab_type": "code",
        "colab": {
          "base_uri": "https://localhost:8080/",
          "height": 34
        },
        "outputId": "110de675-ddf7-40c9-8d25-111f3fef9342"
      },
      "cell_type": "code",
      "source": [
        "from sklearn import svm, grid_search\n",
        "def svc_param_selection(X, y):\n",
        "    Cs = [0.001, 0.01, 0.1, 1, 10]\n",
        "    gammas = [0.001, 0.01, 0.1, 1]\n",
        "    param_grid = {'C': Cs, 'gamma' : gammas}\n",
        "    grid_search = GridSearchCV(svm.SVC(kernel='rbf'), param_grid)\n",
        "    grid_search.fit(X, y)\n",
        "    grid_search.best_params_\n",
        "    return grid_search.best_params_\n",
        "\n",
        "svc_param_selection(x_train, y_train)"
      ],
      "execution_count": 25,
      "outputs": [
        {
          "output_type": "execute_result",
          "data": {
            "text/plain": [
              "{'C': 1, 'gamma': 0.001}"
            ]
          },
          "metadata": {
            "tags": []
          },
          "execution_count": 25
        }
      ]
    },
    {
      "metadata": {
        "id": "Yfyho8h_Y9_t",
        "colab_type": "text"
      },
      "cell_type": "markdown",
      "source": [
        "### Using the optimal parameters you found, print the accuracy"
      ]
    },
    {
      "metadata": {
        "id": "7p0actkaMxb9",
        "colab_type": "code",
        "colab": {
          "base_uri": "https://localhost:8080/",
          "height": 51
        },
        "outputId": "359ee4ca-6586-471d-ea46-c4d00327d06f"
      },
      "cell_type": "code",
      "source": [
        "model = SVC(C = 1, gamma = 0.001)\n",
        "model.fit(x_train, y_train)\n",
        "\n",
        "y_train_predict = model.predict(x_train)\n",
        "print(\"training:\", accuracy_score(y_train, y_train_predict))\n",
        "\n",
        "y_test_predict = model.predict(x_test)\n",
        "print(\"test:\", accuracy_score(y_test, y_test_predict))"
      ],
      "execution_count": 30,
      "outputs": [
        {
          "output_type": "stream",
          "text": [
            "training: 0.8402777777777778\n",
            "test: 0.7552083333333334\n"
          ],
          "name": "stdout"
        }
      ]
    },
    {
      "metadata": {
        "id": "kfY6H6PO1vJD",
        "colab_type": "text"
      },
      "cell_type": "markdown",
      "source": [
        "### Create an ensemble that includes svm and random forest (use your code from the decision trees notebook)\n",
        "### Use predict_proba to get probabilities and decide a method to comebine the predictions "
      ]
    },
    {
      "metadata": {
        "id": "PYbVYQgnOqpP",
        "colab_type": "code",
        "colab": {
          "base_uri": "https://localhost:8080/",
          "height": 88
        },
        "outputId": "5c91c78d-3178-4f9b-b061-13a36410381e"
      },
      "cell_type": "code",
      "source": [
        "from sklearn.ensemble import VotingClassifier\n",
        "\n",
        "def random_forest_param_selection(X, y):\n",
        "    n_estimators = [10,20,30,40,50,60,70,80,90,100]\n",
        "    max_depths = [3,4,5,6,7,8,9,10]\n",
        "    param_grid = {'n_estimators': n_estimators, 'max_depth' : max_depths}\n",
        "    grid_search = GridSearchCV(RandomForestClassifier(), param_grid)\n",
        "    grid_search.fit(X, y)\n",
        "    grid_search.best_params_\n",
        "    return grid_search.best_params_\n",
        "\n",
        "#random_forest_param_selection(x_train, y_train)\n",
        "#{'max_depth': 4, 'n_estimators': 40}\n",
        "\n",
        "model2 = RandomForestClassifier(max_depth = 4, n_estimators = 40)\n",
        "model2.fit(x_train, y_train)\n",
        "\n",
        "#y_train_predict2 = model2.predict(x_train)\n",
        "#print(\"training:\", accuracy_score(y_train, y_train_predict2))\n",
        "#y_test_predict2 = model2.predict(x_test)\n",
        "#print(\"test:\", accuracy_score(y_test, y_test_predict2))\n",
        "\n",
        "ensemble = VotingClassifier([('svc', model), ('rf', model2)])\n",
        "ensemble.fit(x_train, y_train)\n",
        "\n",
        "y_test_predict3 = ensemble.predict(x_test)\n",
        "print(\"test:\", accuracy_score(y_test, y_test_predict3))"
      ],
      "execution_count": 40,
      "outputs": [
        {
          "output_type": "stream",
          "text": [
            "test: 0.7604166666666666\n"
          ],
          "name": "stdout"
        },
        {
          "output_type": "stream",
          "text": [
            "/usr/local/lib/python3.6/dist-packages/sklearn/preprocessing/label.py:151: DeprecationWarning: The truth value of an empty array is ambiguous. Returning False, but in future this will result in an error. Use `array.size > 0` to check that an array is not empty.\n",
            "  if diff:\n"
          ],
          "name": "stderr"
        }
      ]
    }
  ]
}